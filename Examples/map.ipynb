{
 "cells": [
  {
   "cell_type": "markdown",
   "metadata": {},
   "source": [
    "[![image](https://colab.research.google.com/assets/colab-badge.svg)](https://githubtocolab.com/Mahnaz-Meem/geog510-sp24/blob/main/Examples/map.ipynb)"
   ]
  },
  {
   "cell_type": "code",
   "execution_count": 4,
   "metadata": {},
   "outputs": [
    {
     "name": "stdout",
     "output_type": "stream",
     "text": [
      "Hello World!\n"
     ]
    }
   ],
   "source": [
    "print(\"Hello World!\")"
   ]
  },
  {
   "cell_type": "code",
   "execution_count": 6,
   "metadata": {},
   "outputs": [],
   "source": [
    "import leafmap"
   ]
  },
  {
   "cell_type": "code",
   "execution_count": 7,
   "metadata": {},
   "outputs": [
    {
     "data": {
      "application/vnd.jupyter.widget-view+json": {
       "model_id": "b91f5e121b9e4a9693ef943e97084fb4",
       "version_major": 2,
       "version_minor": 0
      },
      "text/plain": [
       "Map(center=[20, 0], controls=(ZoomControl(options=['position', 'zoom_in_text', 'zoom_in_title', 'zoom_out_text…"
      ]
     },
     "execution_count": 7,
     "metadata": {},
     "output_type": "execute_result"
    }
   ],
   "source": [
    "m = leafmap.Map()\n",
    "m"
   ]
  },
  {
   "cell_type": "code",
   "execution_count": null,
   "metadata": {},
   "outputs": [],
   "source": []
  },
  {
   "cell_type": "markdown",
   "metadata": {},
   "source": []
  },
  {
   "cell_type": "code",
   "execution_count": null,
   "metadata": {},
   "outputs": [],
   "source": [
    "# Difference between\n",
    "# Cltr+enter / Shift+enter / Alt+enter / Ctrl+Shift+enter\n",
    "# to delete x, more shortcuts a, b, dd, z, m, y, 1, 2, 3, 4, 5, 6, 7, 8, 9, 0, s, c, v, x, d, shift+M, shift+L, shift+D, shift+V, shift+X, shift+Z, shift+Y, shift+K, shift+J, shift+H, shift+G, shift+F, shift+E, shift+R, shift+T, shift+Q, shift+P, shift+O, shift+I, shift+U, shift+Y, shift+T, shift+R, shift+E, shift+W, shift+Q, shift+P, shift+O, shift+I, shift+U, shift+Y, shift+T, shift+R, shift+E, shift+W, shift+Q, shift+P, shift+O, shift+I, shift+U, shift+Y, shift+T, shift+R, shift+E, shift+W, shift+Q, shift+P, shift+O, shift+I, shift+U, shift+Y, shift+T, shift+R, shift+E, shift+W, shift+Q, shift+P, shift+O, shift+I, shift+U, shift+Y, shift+T, shift+R, shift+E, shift+W, shift+Q, shift+P, shift+O, shift+I, shift+U, shift+Y, shift+T, shift+R, shift+E, shift+W, shift+Q, shift+P, shift+O, shift+I, shift+U, shift+Y, shift+T, shift+R, shift+E, shift+W, shift+Q, shift+P, shift+O, shift+I, shift+U, shift+Y, shift+T, shift+R, shift+E, shift+W, shift+Q, shift+P, shift+O, shift+I, shift+U, shift+Y, shift+T, shift+R, shift+E, shift+W, shift+Q, shift+P, shift+O, shift+I, shift+U, shift+Y, shift+T, shift+R, shift+E, shift+W, shift+Q, shift+P, shift+O,"
   ]
  }
 ],
 "metadata": {
  "kernelspec": {
   "display_name": "geo",
   "language": "python",
   "name": "python3"
  },
  "language_info": {
   "codemirror_mode": {
    "name": "ipython",
    "version": 3
   },
   "file_extension": ".py",
   "mimetype": "text/x-python",
   "name": "python",
   "nbconvert_exporter": "python",
   "pygments_lexer": "ipython3",
   "version": "3.11.7"
  }
 },
 "nbformat": 4,
 "nbformat_minor": 2
}
